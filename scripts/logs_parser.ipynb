{
 "cells": [
  {
   "cell_type": "code",
   "execution_count": null,
   "metadata": {
    "collapsed": true,
    "pycharm": {
     "is_executing": false,
     "name": "#%%\n"
    }
   },
   "outputs": [],
   "source": [
    "from ast import literal_eval\n",
    "from marshmallow import EXCLUDE\n",
    "from pewpewbot.models import StatusSchema\n",
    "\n",
    "filtered_spoilers = []\n",
    "filtered_spoilers_raw = []\n",
    "with open('../logs/logs/logs/pew_info.log') as f:\n",
    "    filtered_counter = 0\n",
    "    for line in f:\n",
    "        if 'on game status request' not in line or 'Мы рады' in line:\n",
    "            filtered_counter += 1\n",
    "            continue\n",
    "        else:\n",
    "            state = StatusSchema(partial=True, unknown=EXCLUDE).load(literal_eval(\n",
    "                line.split('on game status request')[1].strip()))\n",
    "            if state.current_level.spoilers and state.current_level.levelNumber == 28 and state.game_id=='1421':\n",
    "                filtered_spoilers_raw.append(line)\n",
    "                filtered_spoilers.append(state)"
   ]
  }
 ],
 "metadata": {
  "kernelspec": {
   "display_name": "Python 3",
   "language": "python",
   "name": "python3"
  },
  "language_info": {
   "codemirror_mode": {
    "name": "ipython",
    "version": 2
   },
   "file_extension": ".py",
   "mimetype": "text/x-python",
   "name": "python",
   "nbconvert_exporter": "python",
   "pygments_lexer": "ipython2",
   "version": "2.7.6"
  },
  "pycharm": {
   "stem_cell": {
    "cell_type": "raw",
    "source": [],
    "metadata": {
     "collapsed": false
    }
   }
  }
 },
 "nbformat": 4,
 "nbformat_minor": 0
}